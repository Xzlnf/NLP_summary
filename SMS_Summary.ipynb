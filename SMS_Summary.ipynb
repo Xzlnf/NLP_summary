{
 "cells": [
  {
   "cell_type": "code",
   "execution_count": 1,
   "id": "0b2fe025",
   "metadata": {},
   "outputs": [],
   "source": [
    "import spacy\n",
    "import en_core_web_sm\n",
    "import pandas as pd\n",
    "import nltk\n",
    "import re\n",
    "from transformers import pipeline\n",
    "from transformers import AutoTokenizer, AutoModelForSeq2SeqLM\n",
    "from keybert import KeyBERT\n",
    "import json"
   ]
  },
  {
   "cell_type": "code",
   "execution_count": 2,
   "id": "0b5c8a2c",
   "metadata": {},
   "outputs": [],
   "source": [
    "#reading data\n",
    "with open(\"C:\\Lachin\\DataSets\\SMS\\Text1.txt\",'r') as file:\n",
    "    details = file.readlines()"
   ]
  },
  {
   "cell_type": "code",
   "execution_count": 3,
   "id": "42b1e61c",
   "metadata": {},
   "outputs": [
    {
     "data": {
      "text/plain": [
       "\"Apple Computers, Inc. was founded on April 1, 1976, by college dropouts Steve Jobs and Steve Wozniak, who brought to the new company a vision of changing the way people viewed computers. Jobs and Wozniak wanted to make computers small enough for people to have them in their homes or offices. Simply put, they wanted a computer that was user-friendly.\\nJobs and Wozniak started out building the Apple I in Jobs' garage and sold them without a monitor, keyboard, or casing (which they decided to add on in 1977). The Apple II revolutionized the computer industry with the introduction of the first-ever color graphics. Sales jumped from $7.8 million in 1978 to $117 million in 1980, the year Apple went public\""
      ]
     },
     "execution_count": 3,
     "metadata": {},
     "output_type": "execute_result"
    }
   ],
   "source": [
    "#Joining sentences\n",
    "details = \"\".join(details)\n",
    "details"
   ]
  },
  {
   "cell_type": "code",
   "execution_count": 4,
   "id": "1236aa72",
   "metadata": {},
   "outputs": [
    {
     "name": "stdout",
     "output_type": "stream",
     "text": [
      "Apple Computers, Inc. was founded on April 1, 1976, by college dropouts Steve Jobs and Steve Wozniak, who brought to the new company a vision of changing the way people viewed computers. Jobs and Wozniak wanted to make computers small enough for people to have them in their homes or offices. Simply put, they wanted a computer that was user-friendly.\n",
      "Jobs and Wozniak started out building the Apple I in Jobs' garage and sold them without a monitor, keyboard, or casing (which they decided to add on in 1977). The Apple II revolutionized the computer industry with the introduction of the first-ever color graphics. Sales jumped from $7.8 million in 1978 to $117 million in 1980, the year Apple went public\n"
     ]
    }
   ],
   "source": [
    "#preprocessing function\n",
    "def preprocessing(text):\n",
    "    text = re.sub(r'\\n',\"\",text)\n",
    "    return text\n",
    "\n",
    "#preprocessing\n",
    "pre_details = preprocessing(details)\n",
    "print(details)"
   ]
  },
  {
   "cell_type": "markdown",
   "id": "b482374f",
   "metadata": {},
   "source": [
    "### Summarizing"
   ]
  },
  {
   "cell_type": "code",
   "execution_count": 6,
   "id": "60ebe5f8",
   "metadata": {},
   "outputs": [],
   "source": [
    "tokenizer = AutoTokenizer.from_pretrained(\"facebook/bart-large-cnn\")\n",
    "\n",
    "model = AutoModelForSeq2SeqLM.from_pretrained(\"facebook/bart-large-cnn\")"
   ]
  },
  {
   "cell_type": "code",
   "execution_count": 7,
   "id": "948ced19",
   "metadata": {},
   "outputs": [],
   "source": [
    "summarizor = pipeline('summarization', model = 'facebook/bart-large-cnn')"
   ]
  },
  {
   "cell_type": "code",
   "execution_count": 8,
   "id": "329fdd4c",
   "metadata": {},
   "outputs": [],
   "source": [
    "# z = summarizor(details,max_length = 100, min_length = 70)"
   ]
  },
  {
   "cell_type": "code",
   "execution_count": 9,
   "id": "7ed31fcd",
   "metadata": {},
   "outputs": [],
   "source": [
    "# z[0]['summary_text']"
   ]
  },
  {
   "cell_type": "code",
   "execution_count": 10,
   "id": "43561648",
   "metadata": {},
   "outputs": [
    {
     "data": {
      "text/plain": [
       "161"
      ]
     },
     "execution_count": 10,
     "metadata": {},
     "output_type": "execute_result"
    }
   ],
   "source": [
    "len(tokenizer.encode(details))"
   ]
  },
  {
   "cell_type": "code",
   "execution_count": 11,
   "id": "75c41e36",
   "metadata": {},
   "outputs": [
    {
     "data": {
      "text/plain": [
       "1024"
      ]
     },
     "execution_count": 11,
     "metadata": {},
     "output_type": "execute_result"
    }
   ],
   "source": [
    "tokenizer.model_max_length"
   ]
  },
  {
   "cell_type": "code",
   "execution_count": 12,
   "id": "c521dd0c",
   "metadata": {},
   "outputs": [],
   "source": [
    "def summarizor(text, max_length,min_length):\n",
    "    assert max_length < len(tokenizer.encode(text)), \"Max length must be smaller than {} \".format(len(tokenizer.encode(text)))\n",
    "    assert len(tokenizer.encode(text)) < tokenizer.model_max_length, \"Text document must contain more less information\"\n",
    "    summary = summarizor(text,max_length=max_length, min_length=min_length)\n",
    "    text = summary[0]['summary_text']\n",
    "    return text"
   ]
  },
  {
   "cell_type": "markdown",
   "id": "24bc4729",
   "metadata": {},
   "source": [
    "### Key word extraction"
   ]
  },
  {
   "cell_type": "code",
   "execution_count": 13,
   "id": "796c8ac1",
   "metadata": {},
   "outputs": [],
   "source": [
    "kw_model = KeyBERT()\n",
    "# key_words = kw_model.extract_keywords(details,keyphrase_ngram_range=(2,2), top_n=3)\n",
    "# key_words[0][0]"
   ]
  },
  {
   "cell_type": "code",
   "execution_count": 14,
   "id": "d301f581",
   "metadata": {},
   "outputs": [],
   "source": [
    "dict1 = {\n",
    "    \"SMS\":{\n",
    "        \"Title\":\"Apple\",\n",
    "        \"Details\":\"Manufacture phones\"\n",
    "    }\n",
    "}"
   ]
  },
  {
   "cell_type": "code",
   "execution_count": 15,
   "id": "8824cf2e",
   "metadata": {},
   "outputs": [
    {
     "data": {
      "text/plain": [
       "{'SMS': {'Title': 'Apple', 'Details': 'Manufacture phones'}}"
      ]
     },
     "execution_count": 15,
     "metadata": {},
     "output_type": "execute_result"
    }
   ],
   "source": [
    "dict1"
   ]
  },
  {
   "cell_type": "code",
   "execution_count": 18,
   "id": "e2886e53",
   "metadata": {},
   "outputs": [],
   "source": [
    "outfile = open(\"C:\\Lachin\\DataSets\\SMS\\Text1.json\",'w')\n",
    "json.dump(dict1,outfile)"
   ]
  },
  {
   "cell_type": "code",
   "execution_count": 19,
   "id": "f3124531",
   "metadata": {},
   "outputs": [],
   "source": [
    "with open(\"C:\\Lachin\\DataSets\\SMS\\Text1.json\",'r') as f:\n",
    "    text = json.load(f)"
   ]
  },
  {
   "cell_type": "code",
   "execution_count": 20,
   "id": "2a1428d9",
   "metadata": {},
   "outputs": [
    {
     "data": {
      "text/plain": [
       "{'SMS': {'Title': 'Apple', 'Details': 'Manufacture phones'}}"
      ]
     },
     "execution_count": 20,
     "metadata": {},
     "output_type": "execute_result"
    }
   ],
   "source": [
    "text"
   ]
  },
  {
   "cell_type": "code",
   "execution_count": 21,
   "id": "65bc980e",
   "metadata": {},
   "outputs": [],
   "source": [
    "class SMS_summarizor(object):\n",
    "    \n",
    "    def __init__(self,paragraph):\n",
    "        self.para = paragraph\n",
    "        self.__para1 = self.__preprocessor(self.para)\n",
    "        \n",
    "    def __preprocessor(self,text):\n",
    "        text = re.sub(r'\\n',\"\",text)\n",
    "        return text\n",
    "    \n",
    "    def summarizor(self, max_length,min_length):\n",
    "        assert max_length < len(tokenizer.encode(self.__para1)), \"Max length must be smaller than {} \".format(len(tokenizer.encode(self.__para1)))\n",
    "        assert len(tokenizer.encode(self.__para1)) < tokenizer.model_max_length, \"Text document must contain more less information\"\n",
    "        summary = summarizor(self.__para1,max_length=max_length, min_length=min_length)\n",
    "        self.text = summary[0]['summary_text']\n",
    "        \n",
    "    def title_generator(self,number_of_words):\n",
    "        assert type(number_of_words) == int,\"number of words must be an integer\"\n",
    "        assert number_of_words <3, \"Limit the words to 3\"\n",
    "        key_words = kw_model.extract(self.__para1,keyphrase_ngram_range=(number_of_words,number_of_words), top_n=3)\n",
    "        self.title = key_words[0][0]\n",
    "        \n",
    "    def save_json(self,path,json_file_name):\n",
    "        \"\"\"\n",
    "        Save the Json file of the summarized content and it's generated title.\n",
    "        path ---> Path must be ended with \\\n",
    "                    ex-:C:\\Lachin\\DataSets\\SMS\\\n",
    "        json_file_name ---> name.json\n",
    "        \"\"\"\n",
    "        assert type(path) == str and type(json_file_name) == str , \"Pathn and json_file_name must be string\"\n",
    "        assert json_file_name.endswith(\"json\"),\"It must be a .json extension\"\n",
    "        dict1 = {\n",
    "            \"SMS_Summarizor\":{\n",
    "                \"Title\": str(self.title),\n",
    "                \"Summary\": str(self.text)\n",
    "            }\n",
    "        }\n",
    "        \n",
    "        location = open(path + json_file_name,'w')\n",
    "        json.dump(dict1,location, indent = 2)\n",
    "        print(\"Json File successfull saved.\")"
   ]
  },
  {
   "cell_type": "code",
   "execution_count": 22,
   "id": "9c2e4501",
   "metadata": {},
   "outputs": [],
   "source": [
    "s1 = SMS_summarizor(details)"
   ]
  },
  {
   "cell_type": "code",
   "execution_count": null,
   "id": "fe378901",
   "metadata": {},
   "outputs": [],
   "source": [
    "s1.summarizor(100,70)"
   ]
  },
  {
   "cell_type": "code",
   "execution_count": null,
   "id": "56c8f632",
   "metadata": {},
   "outputs": [],
   "source": []
  }
 ],
 "metadata": {
  "kernelspec": {
   "display_name": "Python 3",
   "language": "python",
   "name": "python3"
  },
  "language_info": {
   "codemirror_mode": {
    "name": "ipython",
    "version": 3
   },
   "file_extension": ".py",
   "mimetype": "text/x-python",
   "name": "python",
   "nbconvert_exporter": "python",
   "pygments_lexer": "ipython3",
   "version": "3.8.8"
  }
 },
 "nbformat": 4,
 "nbformat_minor": 5
}
